{
 "cells": [
  {
   "cell_type": "markdown",
   "id": "9dbfa66c",
   "metadata": {},
   "source": [
    "<span style='color:#990011; font-size:30px; background-color:#FCF6F5'>&nbsp;&nbsp;&nbsp;&nbsp;Link :&nbsp;&nbsp;&nbsp;&nbsp;</span>"
   ]
  },
  {
   "cell_type": "markdown",
   "id": "941bc372",
   "metadata": {},
   "source": [
    "<span style='font-size:25px; background-color:#FCF6F5'>https://www.hackerrank.com/h2105001?hr_r=1</span>\n"
   ]
  },
  {
   "cell_type": "code",
   "execution_count": null,
   "id": "b024b0df",
   "metadata": {},
   "outputs": [],
   "source": []
  }
 ],
 "metadata": {
  "kernelspec": {
   "display_name": "Python 3 (ipykernel)",
   "language": "python",
   "name": "python3"
  },
  "language_info": {
   "codemirror_mode": {
    "name": "ipython",
    "version": 3
   },
   "file_extension": ".py",
   "mimetype": "text/x-python",
   "name": "python",
   "nbconvert_exporter": "python",
   "pygments_lexer": "ipython3",
   "version": "3.11.1"
  }
 },
 "nbformat": 4,
 "nbformat_minor": 5
}
